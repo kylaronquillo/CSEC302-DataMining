{
 "cells": [
  {
   "cell_type": "code",
   "execution_count": 1,
   "id": "8d920c6a",
   "metadata": {
    "_cell_guid": "b1076dfc-b9ad-4769-8c92-a6c4dae69d19",
    "_uuid": "8f2839f25d086af736a60e9eeb907d3b93b6e0e5",
    "execution": {
     "iopub.execute_input": "2025-05-12T13:50:23.852377Z",
     "iopub.status.busy": "2025-05-12T13:50:23.851982Z",
     "iopub.status.idle": "2025-05-12T13:50:25.850015Z",
     "shell.execute_reply": "2025-05-12T13:50:25.848943Z"
    },
    "papermill": {
     "duration": 2.004124,
     "end_time": "2025-05-12T13:50:25.851596",
     "exception": false,
     "start_time": "2025-05-12T13:50:23.847472",
     "status": "completed"
    },
    "tags": []
   },
   "outputs": [
    {
     "name": "stdout",
     "output_type": "stream",
     "text": [
      "/kaggle/input/real-estate-data/Real estate.csv\n"
     ]
    }
   ],
   "source": [
    "# This Python 3 environment comes with many helpful analytics libraries installed\n",
    "# It is defined by the kaggle/python Docker image: https://github.com/kaggle/docker-python\n",
    "# For example, here's several helpful packages to load\n",
    "\n",
    "import numpy as np # linear algebra\n",
    "import pandas as pd # data processing, CSV file I/O (e.g. pd.read_csv)\n",
    "\n",
    "# Input data files are available in the read-only \"../input/\" directory\n",
    "# For example, running this (by clicking run or pressing Shift+Enter) will list all files under the input directory\n",
    "\n",
    "import os\n",
    "for dirname, _, filenames in os.walk('/kaggle/input'):\n",
    "    for filename in filenames:\n",
    "        print(os.path.join(dirname, filename))\n",
    "\n",
    "# You can write up to 20GB to the current directory (/kaggle/working/) that gets preserved as output when you create a version using \"Save & Run All\" \n",
    "# You can also write temporary files to /kaggle/temp/, but they won't be saved outside of the current session"
   ]
  },
  {
   "cell_type": "code",
   "execution_count": 2,
   "id": "fb1eb475",
   "metadata": {
    "execution": {
     "iopub.execute_input": "2025-05-12T13:50:25.858840Z",
     "iopub.status.busy": "2025-05-12T13:50:25.858383Z",
     "iopub.status.idle": "2025-05-12T13:50:25.863324Z",
     "shell.execute_reply": "2025-05-12T13:50:25.862123Z"
    },
    "papermill": {
     "duration": 0.010266,
     "end_time": "2025-05-12T13:50:25.865070",
     "exception": false,
     "start_time": "2025-05-12T13:50:25.854804",
     "status": "completed"
    },
    "tags": []
   },
   "outputs": [],
   "source": [
    "import numpy as np\n",
    "import pandas as pd\n",
    "import matplotlib.pyplot as plt\n",
    "from itertools import combinations"
   ]
  },
  {
   "cell_type": "code",
   "execution_count": 3,
   "id": "2b36c51c",
   "metadata": {
    "execution": {
     "iopub.execute_input": "2025-05-12T13:50:25.871792Z",
     "iopub.status.busy": "2025-05-12T13:50:25.871433Z",
     "iopub.status.idle": "2025-05-12T13:50:25.947476Z",
     "shell.execute_reply": "2025-05-12T13:50:25.946320Z"
    },
    "papermill": {
     "duration": 0.084505,
     "end_time": "2025-05-12T13:50:25.952445",
     "exception": false,
     "start_time": "2025-05-12T13:50:25.867940",
     "status": "completed"
    },
    "tags": []
   },
   "outputs": [
    {
     "name": "stdout",
     "output_type": "stream",
     "text": [
      "   No  X1 transaction date  X2 house age  \\\n",
      "0   1             2012.917          32.0   \n",
      "1   2             2012.917          19.5   \n",
      "2   3             2013.583          13.3   \n",
      "3   4             2013.500          13.3   \n",
      "4   5             2012.833           5.0   \n",
      "\n",
      "   X3 distance to the nearest MRT station  X4 number of convenience stores  \\\n",
      "0                                84.87882                               10   \n",
      "1                               306.59470                                9   \n",
      "2                               561.98450                                5   \n",
      "3                               561.98450                                5   \n",
      "4                               390.56840                                5   \n",
      "\n",
      "   X5 latitude  X6 longitude  Y house price of unit area  \n",
      "0     24.98298     121.54024                        37.9  \n",
      "1     24.98034     121.53951                        42.2  \n",
      "2     24.98746     121.54391                        47.3  \n",
      "3     24.98746     121.54391                        54.8  \n",
      "4     24.97937     121.54245                        43.1  \n",
      "               No  X1 transaction date  X2 house age  \\\n",
      "count  414.000000           414.000000    414.000000   \n",
      "mean   207.500000          2013.148971     17.712560   \n",
      "std    119.655756             0.281967     11.392485   \n",
      "min      1.000000          2012.667000      0.000000   \n",
      "25%    104.250000          2012.917000      9.025000   \n",
      "50%    207.500000          2013.167000     16.100000   \n",
      "75%    310.750000          2013.417000     28.150000   \n",
      "max    414.000000          2013.583000     43.800000   \n",
      "\n",
      "       X3 distance to the nearest MRT station  \\\n",
      "count                              414.000000   \n",
      "mean                              1083.885689   \n",
      "std                               1262.109595   \n",
      "min                                 23.382840   \n",
      "25%                                289.324800   \n",
      "50%                                492.231300   \n",
      "75%                               1454.279000   \n",
      "max                               6488.021000   \n",
      "\n",
      "       X4 number of convenience stores  X5 latitude  X6 longitude  \\\n",
      "count                       414.000000   414.000000    414.000000   \n",
      "mean                          4.094203    24.969030    121.533361   \n",
      "std                           2.945562     0.012410      0.015347   \n",
      "min                           0.000000    24.932070    121.473530   \n",
      "25%                           1.000000    24.963000    121.528085   \n",
      "50%                           4.000000    24.971100    121.538630   \n",
      "75%                           6.000000    24.977455    121.543305   \n",
      "max                          10.000000    25.014590    121.566270   \n",
      "\n",
      "       Y house price of unit area  \n",
      "count                  414.000000  \n",
      "mean                    37.980193  \n",
      "std                     13.606488  \n",
      "min                      7.600000  \n",
      "25%                     27.700000  \n",
      "50%                     38.450000  \n",
      "75%                     46.600000  \n",
      "max                    117.500000  \n",
      "<class 'pandas.core.frame.DataFrame'>\n",
      "RangeIndex: 414 entries, 0 to 413\n",
      "Data columns (total 8 columns):\n",
      " #   Column                                  Non-Null Count  Dtype  \n",
      "---  ------                                  --------------  -----  \n",
      " 0   No                                      414 non-null    int64  \n",
      " 1   X1 transaction date                     414 non-null    float64\n",
      " 2   X2 house age                            414 non-null    float64\n",
      " 3   X3 distance to the nearest MRT station  414 non-null    float64\n",
      " 4   X4 number of convenience stores         414 non-null    int64  \n",
      " 5   X5 latitude                             414 non-null    float64\n",
      " 6   X6 longitude                            414 non-null    float64\n",
      " 7   Y house price of unit area              414 non-null    float64\n",
      "dtypes: float64(6), int64(2)\n",
      "memory usage: 26.0 KB\n",
      "None\n"
     ]
    }
   ],
   "source": [
    "# Load the dataset\n",
    "df_realestate = pd.read_csv(\"/kaggle/input/real-estate-data/Real estate.csv\")\n",
    "print(df_realestate.head())\n",
    "print(df_realestate.describe())\n",
    "print(df_realestate.info())"
   ]
  },
  {
   "cell_type": "code",
   "execution_count": 4,
   "id": "b17aa170",
   "metadata": {
    "execution": {
     "iopub.execute_input": "2025-05-12T13:50:25.963267Z",
     "iopub.status.busy": "2025-05-12T13:50:25.962988Z",
     "iopub.status.idle": "2025-05-12T13:50:25.967291Z",
     "shell.execute_reply": "2025-05-12T13:50:25.966402Z"
    },
    "papermill": {
     "duration": 0.009777,
     "end_time": "2025-05-12T13:50:25.968892",
     "exception": false,
     "start_time": "2025-05-12T13:50:25.959115",
     "status": "completed"
    },
    "tags": []
   },
   "outputs": [],
   "source": [
    "# Drop unnamed index column\n",
    "# df_realestate = df_realestate.drop(columns=[\"No\"])"
   ]
  },
  {
   "cell_type": "code",
   "execution_count": 5,
   "id": "74bbf8b0",
   "metadata": {
    "execution": {
     "iopub.execute_input": "2025-05-12T13:50:25.976030Z",
     "iopub.status.busy": "2025-05-12T13:50:25.975747Z",
     "iopub.status.idle": "2025-05-12T13:50:25.985024Z",
     "shell.execute_reply": "2025-05-12T13:50:25.984213Z"
    },
    "papermill": {
     "duration": 0.014687,
     "end_time": "2025-05-12T13:50:25.986683",
     "exception": false,
     "start_time": "2025-05-12T13:50:25.971996",
     "status": "completed"
    },
    "tags": []
   },
   "outputs": [],
   "source": [
    "# Select features and target\n",
    "feature_cols = ['X1 transaction date', 'X2 house age', 'X3 distance to the nearest MRT station',\n",
    "                'X4 number of convenience stores', 'X5 latitude', 'X6 longitude']\n",
    "target_col = 'Y house price of unit area'\n",
    "\n",
    "# Normalize function\n",
    "def normalize(array):\n",
    "    return (array - np.mean(array, axis=0)) / np.std(array, axis=0)\n",
    "\n",
    "# Prepare data\n",
    "X_raw = df_realestate[feature_cols].values\n",
    "y_raw = df_realestate[target_col].values\n",
    "\n",
    "X = normalize(X_raw)\n",
    "y = normalize(y_raw)\n",
    "\n",
    "m, n = X.shape"
   ]
  },
  {
   "cell_type": "code",
   "execution_count": 6,
   "id": "87622862",
   "metadata": {
    "execution": {
     "iopub.execute_input": "2025-05-12T13:50:25.993714Z",
     "iopub.status.busy": "2025-05-12T13:50:25.993370Z",
     "iopub.status.idle": "2025-05-12T13:50:26.002430Z",
     "shell.execute_reply": "2025-05-12T13:50:26.001521Z"
    },
    "papermill": {
     "duration": 0.014479,
     "end_time": "2025-05-12T13:50:26.004083",
     "exception": false,
     "start_time": "2025-05-12T13:50:25.989604",
     "status": "completed"
    },
    "tags": []
   },
   "outputs": [],
   "source": [
    "# Hypothesis function for multivariate\n",
    "def hyp(theta, X):\n",
    "    return theta[0] + np.dot(X, theta[1:])\n",
    "\n",
    "# Cost function\n",
    "def cost(theta, X, y):\n",
    "    return np.sum((hyp(theta, X) - y) ** 2) / (2 * len(y))\n",
    "\n",
    "# Derivatives\n",
    "def der0(theta, X, y):\n",
    "    return np.sum(hyp(theta, X) - y) / len(y)\n",
    "\n",
    "def deri(theta, X, y, i):\n",
    "    return np.sum((hyp(theta, X) - y) * X[:, i]) / len(y)\n",
    "\n",
    "# Gradient Descent for Multivariate Linear Regression\n",
    "def gradient_descent(X, y, alpha=0.01, loops=10000):\n",
    "    theta = [0.0] * (X.shape[1] + 1)\n",
    "    for _ in range(loops):\n",
    "        temp0 = theta[0] - alpha * der0(theta, X, y)\n",
    "        temp_rest = [theta[i+1] - alpha * deri(theta, X, y, i) for i in range(X.shape[1])]\n",
    "        theta = [temp0] + temp_rest\n",
    "    return theta\n",
    "\n",
    "# R² Score function\n",
    "def r2_score(y_true, y_pred):\n",
    "    ss_res = np.sum((y_true - y_pred) ** 2)\n",
    "    ss_tot = np.sum((y_true - np.mean(y_true)) ** 2)\n",
    "    return 1 - ss_res / ss_tot"
   ]
  },
  {
   "cell_type": "code",
   "execution_count": 7,
   "id": "11a27e66",
   "metadata": {
    "execution": {
     "iopub.execute_input": "2025-05-12T13:50:26.010759Z",
     "iopub.status.busy": "2025-05-12T13:50:26.010443Z",
     "iopub.status.idle": "2025-05-12T13:50:27.099412Z",
     "shell.execute_reply": "2025-05-12T13:50:27.098457Z"
    },
    "papermill": {
     "duration": 1.094217,
     "end_time": "2025-05-12T13:50:27.101146",
     "exception": false,
     "start_time": "2025-05-12T13:50:26.006929",
     "status": "completed"
    },
    "tags": []
   },
   "outputs": [],
   "source": [
    "# Train the model\n",
    "theta = gradient_descent(X, y, alpha=0.01, loops=10000)\n",
    "\n",
    "# Predict and evaluate\n",
    "y_pred = hyp(theta, X)\n",
    "final_cost = cost(theta, X, y)\n",
    "r2 = r2_score(y, y_pred)"
   ]
  },
  {
   "cell_type": "code",
   "execution_count": 8,
   "id": "bad6467a",
   "metadata": {
    "execution": {
     "iopub.execute_input": "2025-05-12T13:50:27.110321Z",
     "iopub.status.busy": "2025-05-12T13:50:27.109156Z",
     "iopub.status.idle": "2025-05-12T13:50:27.116164Z",
     "shell.execute_reply": "2025-05-12T13:50:27.114820Z"
    },
    "papermill": {
     "duration": 0.012245,
     "end_time": "2025-05-12T13:50:27.117587",
     "exception": false,
     "start_time": "2025-05-12T13:50:27.105342",
     "status": "completed"
    },
    "tags": []
   },
   "outputs": [
    {
     "name": "stdout",
     "output_type": "stream",
     "text": [
      "=== Multivariate Linear Regression Results ===\n",
      "Final Cost: 0.2088\n",
      "R² Score: 0.5824\n",
      "\n",
      "Feature Coefficients:\n",
      "Intercept (theta0): -0.0000\n",
      "X1 transaction date: theta1 = 0.1066\n",
      "X2 house age: theta2 = -0.2258\n",
      "X3 distance to the nearest MRT station: theta3 = -0.4162\n",
      "X4 number of convenience stores: theta4 = 0.2453\n",
      "X5 latitude: theta5 = 0.2056\n",
      "X6 longitude: theta6 = -0.0140\n"
     ]
    }
   ],
   "source": [
    "# Output results\n",
    "print(\"=== Multivariate Linear Regression Results ===\")\n",
    "print(f\"Final Cost: {final_cost:.4f}\")\n",
    "print(f\"R² Score: {r2:.4f}\\n\")\n",
    "\n",
    "print(\"Feature Coefficients:\")\n",
    "print(f\"Intercept (theta0): {theta[0]:.4f}\")\n",
    "for i, feature in enumerate(feature_cols):\n",
    "    print(f\"{feature}: theta{i+1} = {theta[i+1]:.4f}\")"
   ]
  },
  {
   "cell_type": "code",
   "execution_count": 9,
   "id": "da0eac4f",
   "metadata": {
    "execution": {
     "iopub.execute_input": "2025-05-12T13:50:27.124703Z",
     "iopub.status.busy": "2025-05-12T13:50:27.124035Z",
     "iopub.status.idle": "2025-05-12T13:50:27.462936Z",
     "shell.execute_reply": "2025-05-12T13:50:27.461885Z"
    },
    "papermill": {
     "duration": 0.344157,
     "end_time": "2025-05-12T13:50:27.464697",
     "exception": false,
     "start_time": "2025-05-12T13:50:27.120540",
     "status": "completed"
    },
    "tags": []
   },
   "outputs": [
    {
     "name": "stdout",
     "output_type": "stream",
     "text": [
      "\n",
      "=== Feature Influence Ranking ===\n",
      "X3 distance to the nearest MRT station: theta = -0.4162\n",
      "X4 number of convenience stores: theta = 0.2453\n",
      "X2 house age: theta = -0.2258\n",
      "X5 latitude: theta = 0.2056\n",
      "X1 transaction date: theta = 0.1066\n",
      "X6 longitude: theta = -0.0140\n"
     ]
    },
    {
     "data": {
      "image/png": "[encoded data removed]",
      "text/plain": [
       "<Figure size 700x500 with 1 Axes>"
      ]
     },
     "metadata": {},
     "output_type": "display_data"
    }
   ],
   "source": [
    "# Rank by absolute theta value (excluding intercept)\n",
    "print(\"\\n=== Feature Influence Ranking ===\")\n",
    "theta_feature = list(zip(feature_cols, theta[1:]))\n",
    "theta_feature.sort(key=lambda x: abs(x[1]), reverse=True)\n",
    "for name, val in theta_feature:\n",
    "    print(f\"{name}: theta = {val:.4f}\")\n",
    "\n",
    "# Plot predicted vs actual\n",
    "plt.figure(figsize=(7, 5))\n",
    "plt.scatter(y, y_pred, alpha=0.6)\n",
    "plt.plot([min(y), max(y)], [min(y), max(y)], color='red', label='Ideal Fit')\n",
    "plt.xlabel(\"Actual Normalized Prices\")\n",
    "plt.ylabel(\"Predicted Normalized Prices\")\n",
    "plt.title(\"Actual vs Predicted House Prices\")\n",
    "plt.legend()\n",
    "plt.grid(True)\n",
    "plt.tight_layout()\n",
    "plt.show()"
   ]
  },
  {
   "cell_type": "code",
   "execution_count": 10,
   "id": "c1b267e4",
   "metadata": {
    "execution": {
     "iopub.execute_input": "2025-05-12T13:50:27.473668Z",
     "iopub.status.busy": "2025-05-12T13:50:27.473340Z",
     "iopub.status.idle": "2025-05-12T13:50:28.994462Z",
     "shell.execute_reply": "2025-05-12T13:50:28.993263Z"
    },
    "papermill": {
     "duration": 1.52749,
     "end_time": "2025-05-12T13:50:28.996211",
     "exception": false,
     "start_time": "2025-05-12T13:50:27.468721",
     "status": "completed"
    },
    "tags": []
   },
   "outputs": [
    {
     "name": "stdout",
     "output_type": "stream",
     "text": [
      "\n",
      "=== R² Score for Each Individual Feature ===\n",
      "X1 transaction date: R² = 0.0077\n",
      "X2 house age: R² = 0.0443\n",
      "X3 distance to the nearest MRT station: R² = 0.4538\n",
      "X4 number of convenience stores: R² = 0.3260\n",
      "X5 latitude: R² = 0.2985\n",
      "X6 longitude: R² = 0.2738\n"
     ]
    }
   ],
   "source": [
    "print(\"\\n=== R² Score for Each Individual Feature ===\")\n",
    "for i, feature in enumerate(feature_cols):\n",
    "    Xi = X[:, i].reshape(-1, 1)  # Use only one feature\n",
    "    theta_i = gradient_descent(Xi, y, alpha=0.01, loops=10000)\n",
    "    y_pred_i = hyp(theta_i, Xi)\n",
    "    r2_i = r2_score(y, y_pred_i)\n",
    "    print(f\"{feature}: R² = {r2_i:.4f}\")"
   ]
  }
 ],
 "metadata": {
  "kaggle": {
   "accelerator": "none",
   "dataSources": [
    {
     "datasetId": 7393376,
     "sourceId": 11776095,
     "sourceType": "datasetVersion"
    }
   ],
   "dockerImageVersionId": 31012,
   "isGpuEnabled": false,
   "isInternetEnabled": true,
   "language": "python",
   "sourceType": "notebook"
  },
  "kernelspec": {
   "display_name": "Python 3",
   "language": "python",
   "name": "python3"
  },
  "language_info": {
   "codemirror_mode": {
    "name": "ipython",
    "version": 3
   },
   "file_extension": ".py",
   "mimetype": "text/x-python",
   "name": "python",
   "nbconvert_exporter": "python",
   "pygments_lexer": "ipython3",
   "version": "3.11.11"
  },
  "papermill": {
   "default_parameters": {},
   "duration": 10.416781,
   "end_time": "2025-05-12T13:50:29.522071",
   "environment_variables": {},
   "exception": null,
   "input_path": "__notebook__.ipynb",
   "output_path": "__notebook__.ipynb",
   "parameters": {},
   "start_time": "2025-05-12T13:50:19.105290",
   "version": "2.6.0"
  }
 },
 "nbformat": 4,
 "nbformat_minor": 5
}
